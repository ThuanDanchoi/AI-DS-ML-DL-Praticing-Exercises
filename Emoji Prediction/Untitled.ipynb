{
 "cells": [
  {
   "cell_type": "markdown",
   "id": "36adc766-f34e-4ea8-bc1c-44287b361dff",
   "metadata": {},
   "source": [
    "# Emoji Prediction"
   ]
  },
  {
   "cell_type": "code",
   "execution_count": 2,
   "id": "6e524334-b9fc-4289-a0d3-4bc100cb40fd",
   "metadata": {},
   "outputs": [],
   "source": [
    "import os\n",
    "import numpy as np\n",
    "import pandas as pd\n",
    "import matplotlib.pyplot as plt\n",
    "import seaborn as sns\n",
    "import pickle\n",
    "import tensorflow as tf\n"
   ]
  },
  {
   "cell_type": "markdown",
   "id": "98249a2c-97cb-4d54-8330-c01466b6c403",
   "metadata": {},
   "source": [
    "## Load Train and Test CSV file"
   ]
  },
  {
   "cell_type": "code",
   "execution_count": 4,
   "id": "32cd0bb4-98f0-4580-9398-1d07e0365c30",
   "metadata": {},
   "outputs": [],
   "source": [
    "train_df = pd.read_csv('data/Train.csv')\n",
    "test_df = pd.read_csv('data/Test.csv')"
   ]
  },
  {
   "cell_type": "code",
   "execution_count": 5,
   "id": "4397836c-2196-4853-a1f0-b6d6d2209cc9",
   "metadata": {},
   "outputs": [
    {
     "data": {
      "text/html": [
       "<div>\n",
       "<style scoped>\n",
       "    .dataframe tbody tr th:only-of-type {\n",
       "        vertical-align: middle;\n",
       "    }\n",
       "\n",
       "    .dataframe tbody tr th {\n",
       "        vertical-align: top;\n",
       "    }\n",
       "\n",
       "    .dataframe thead th {\n",
       "        text-align: right;\n",
       "    }\n",
       "</style>\n",
       "<table border=\"1\" class=\"dataframe\">\n",
       "  <thead>\n",
       "    <tr style=\"text-align: right;\">\n",
       "      <th></th>\n",
       "      <th>Unnamed: 0</th>\n",
       "      <th>TEXT</th>\n",
       "      <th>Label</th>\n",
       "    </tr>\n",
       "  </thead>\n",
       "  <tbody>\n",
       "    <tr>\n",
       "      <th>0</th>\n",
       "      <td>0</td>\n",
       "      <td>Vacation wasted ! #vacation2017 #photobomb #ti...</td>\n",
       "      <td>0</td>\n",
       "    </tr>\n",
       "    <tr>\n",
       "      <th>1</th>\n",
       "      <td>1</td>\n",
       "      <td>Oh Wynwood, you’re so funny! : @user #Wynwood ...</td>\n",
       "      <td>1</td>\n",
       "    </tr>\n",
       "    <tr>\n",
       "      <th>2</th>\n",
       "      <td>2</td>\n",
       "      <td>Been friends since 7th grade. Look at us now w...</td>\n",
       "      <td>2</td>\n",
       "    </tr>\n",
       "    <tr>\n",
       "      <th>3</th>\n",
       "      <td>3</td>\n",
       "      <td>This is what it looks like when someone loves ...</td>\n",
       "      <td>3</td>\n",
       "    </tr>\n",
       "    <tr>\n",
       "      <th>4</th>\n",
       "      <td>4</td>\n",
       "      <td>RT @user this white family was invited to a Bl...</td>\n",
       "      <td>3</td>\n",
       "    </tr>\n",
       "    <tr>\n",
       "      <th>5</th>\n",
       "      <td>5</td>\n",
       "      <td>TRACK SEASON 2016, I'M READY FOR YA @ Universi...</td>\n",
       "      <td>4</td>\n",
       "    </tr>\n",
       "    <tr>\n",
       "      <th>6</th>\n",
       "      <td>6</td>\n",
       "      <td>Merry Christmas you filthy little animals. Wea...</td>\n",
       "      <td>5</td>\n",
       "    </tr>\n",
       "    <tr>\n",
       "      <th>7</th>\n",
       "      <td>7</td>\n",
       "      <td>Westenders @user #LAZzNation @ Weston, Toronto\\n</td>\n",
       "      <td>6</td>\n",
       "    </tr>\n",
       "    <tr>\n",
       "      <th>8</th>\n",
       "      <td>8</td>\n",
       "      <td>Maxwell heads home @ Summa Akron City Hospital\\n</td>\n",
       "      <td>2</td>\n",
       "    </tr>\n",
       "    <tr>\n",
       "      <th>9</th>\n",
       "      <td>9</td>\n",
       "      <td>Story On Saturday 136 Collins Ave, Miami Beach...</td>\n",
       "      <td>7</td>\n",
       "    </tr>\n",
       "  </tbody>\n",
       "</table>\n",
       "</div>"
      ],
      "text/plain": [
       "   Unnamed: 0                                               TEXT  Label\n",
       "0           0  Vacation wasted ! #vacation2017 #photobomb #ti...      0\n",
       "1           1  Oh Wynwood, you’re so funny! : @user #Wynwood ...      1\n",
       "2           2  Been friends since 7th grade. Look at us now w...      2\n",
       "3           3  This is what it looks like when someone loves ...      3\n",
       "4           4  RT @user this white family was invited to a Bl...      3\n",
       "5           5  TRACK SEASON 2016, I'M READY FOR YA @ Universi...      4\n",
       "6           6  Merry Christmas you filthy little animals. Wea...      5\n",
       "7           7   Westenders @user #LAZzNation @ Weston, Toronto\\n      6\n",
       "8           8   Maxwell heads home @ Summa Akron City Hospital\\n      2\n",
       "9           9  Story On Saturday 136 Collins Ave, Miami Beach...      7"
      ]
     },
     "execution_count": 5,
     "metadata": {},
     "output_type": "execute_result"
    }
   ],
   "source": [
    "train_df.head(10)"
   ]
  },
  {
   "cell_type": "code",
   "execution_count": 6,
   "id": "446ba95f-e591-473f-acad-b342b1373b0c",
   "metadata": {},
   "outputs": [
    {
     "data": {
      "text/html": [
       "<div>\n",
       "<style scoped>\n",
       "    .dataframe tbody tr th:only-of-type {\n",
       "        vertical-align: middle;\n",
       "    }\n",
       "\n",
       "    .dataframe tbody tr th {\n",
       "        vertical-align: top;\n",
       "    }\n",
       "\n",
       "    .dataframe thead th {\n",
       "        text-align: right;\n",
       "    }\n",
       "</style>\n",
       "<table border=\"1\" class=\"dataframe\">\n",
       "  <thead>\n",
       "    <tr style=\"text-align: right;\">\n",
       "      <th></th>\n",
       "      <th>Unnamed: 0</th>\n",
       "      <th>id</th>\n",
       "      <th>TEXT</th>\n",
       "    </tr>\n",
       "  </thead>\n",
       "  <tbody>\n",
       "    <tr>\n",
       "      <th>0</th>\n",
       "      <td>0</td>\n",
       "      <td>0</td>\n",
       "      <td>Thought this was cool...#Repost (get_repost)・・...</td>\n",
       "    </tr>\n",
       "    <tr>\n",
       "      <th>1</th>\n",
       "      <td>1</td>\n",
       "      <td>1</td>\n",
       "      <td>Happy 4th! Corte madera parade. #everytownusa ...</td>\n",
       "    </tr>\n",
       "    <tr>\n",
       "      <th>2</th>\n",
       "      <td>2</td>\n",
       "      <td>2</td>\n",
       "      <td>Luv. Or at least something close to it. @ Unio...</td>\n",
       "    </tr>\n",
       "    <tr>\n",
       "      <th>3</th>\n",
       "      <td>3</td>\n",
       "      <td>3</td>\n",
       "      <td>There's a slice of pie under that whipped crea...</td>\n",
       "    </tr>\n",
       "    <tr>\n",
       "      <th>4</th>\n",
       "      <td>5</td>\n",
       "      <td>5</td>\n",
       "      <td>#thankyou for your thank you We adore you both...</td>\n",
       "    </tr>\n",
       "    <tr>\n",
       "      <th>5</th>\n",
       "      <td>6</td>\n",
       "      <td>6</td>\n",
       "      <td>the SPECIAL4U Lyric video will be posted on my...</td>\n",
       "    </tr>\n",
       "    <tr>\n",
       "      <th>6</th>\n",
       "      <td>7</td>\n",
       "      <td>7</td>\n",
       "      <td>Momma Tanya's In town ! Awesome dinner @user w...</td>\n",
       "    </tr>\n",
       "    <tr>\n",
       "      <th>7</th>\n",
       "      <td>8</td>\n",
       "      <td>8</td>\n",
       "      <td>Thing 1 and Thing 2 @ Huron, Ohio\\n</td>\n",
       "    </tr>\n",
       "    <tr>\n",
       "      <th>8</th>\n",
       "      <td>10</td>\n",
       "      <td>10</td>\n",
       "      <td>Bday girl and some random @ Sheraton New York ...</td>\n",
       "    </tr>\n",
       "    <tr>\n",
       "      <th>9</th>\n",
       "      <td>11</td>\n",
       "      <td>11</td>\n",
       "      <td>Always fun with my forever wedding date Congra...</td>\n",
       "    </tr>\n",
       "  </tbody>\n",
       "</table>\n",
       "</div>"
      ],
      "text/plain": [
       "   Unnamed: 0  id                                               TEXT\n",
       "0           0   0  Thought this was cool...#Repost (get_repost)・・...\n",
       "1           1   1  Happy 4th! Corte madera parade. #everytownusa ...\n",
       "2           2   2  Luv. Or at least something close to it. @ Unio...\n",
       "3           3   3  There's a slice of pie under that whipped crea...\n",
       "4           5   5  #thankyou for your thank you We adore you both...\n",
       "5           6   6  the SPECIAL4U Lyric video will be posted on my...\n",
       "6           7   7  Momma Tanya's In town ! Awesome dinner @user w...\n",
       "7           8   8                Thing 1 and Thing 2 @ Huron, Ohio\\n\n",
       "8          10  10  Bday girl and some random @ Sheraton New York ...\n",
       "9          11  11  Always fun with my forever wedding date Congra..."
      ]
     },
     "execution_count": 6,
     "metadata": {},
     "output_type": "execute_result"
    }
   ],
   "source": [
    "test_df.head(10)"
   ]
  },
  {
   "cell_type": "markdown",
   "id": "ffa90f94-f8dc-4cb1-ad8e-c972e068fd7b",
   "metadata": {},
   "source": [
    "## Over-Sampling data"
   ]
  },
  {
   "cell_type": "code",
   "execution_count": 8,
   "id": "4ba38df4-490f-4f34-9571-131a4bd4a7b4",
   "metadata": {},
   "outputs": [],
   "source": [
    "X_train = train_df['TEXT']\n",
    "Y_train = train_df['Label']\n",
    "\n",
    "X_test = test_df['TEXT']"
   ]
  },
  {
   "cell_type": "code",
   "execution_count": 9,
   "id": "84efef51-09e8-4202-b88d-3bb9dc417dfd",
   "metadata": {},
   "outputs": [],
   "source": [
    "from imblearn.over_sampling import RandomOverSampler\n",
    "\n",
    "# Apply Random Oversampling to balance classes in the training set\n",
    "os = RandomOverSampler()\n",
    "X_train_resampled, Y_train_resampled = os.fit_resample(X_train.values.reshape(-1, 1), Y_train)\n",
    "\n",
    "X_train_resampled = X_train_resampled.flatten()"
   ]
  },
  {
   "cell_type": "code",
   "execution_count": 10,
   "id": "dfd12ed0-1406-42b9-b777-3b1df46853b5",
   "metadata": {},
   "outputs": [
    {
     "data": {
      "text/plain": [
       "(301820,)"
      ]
     },
     "execution_count": 10,
     "metadata": {},
     "output_type": "execute_result"
    }
   ],
   "source": [
    "X_train_resampled.shape"
   ]
  },
  {
   "cell_type": "markdown",
   "id": "f919a51c-482d-47d1-a99a-c9d11d040148",
   "metadata": {},
   "source": [
    "## Tokenization"
   ]
  },
  {
   "cell_type": "code",
   "execution_count": 12,
   "id": "9e3a316a-f3fa-4b3b-a378-4d51c8284197",
   "metadata": {},
   "outputs": [],
   "source": [
    "from tensorflow.keras.preprocessing.text import Tokenizer\n",
    "\n",
    "tokenizer = Tokenizer(num_words=10000, oov_token=\"<OOV>\")\n",
    "tokenizer.fit_on_texts(X_train_resampled)"
   ]
  },
  {
   "cell_type": "code",
   "execution_count": 13,
   "id": "d1e63352-e37d-4300-8265-75d61931c10a",
   "metadata": {},
   "outputs": [
    {
     "name": "stdout",
     "output_type": "stream",
     "text": [
      "Text \n",
      " ['Vacation wasted ! #vacation2017 #photobomb #tired #vacationwasted #mcgar30 #miami @ Port of…\\n'\n",
      " 'Oh Wynwood, you’re so funny! : @user #Wynwood #Art #ItWas3AM #Flowers #Vibes @ Wynwood…\\n'\n",
      " 'Been friends since 7th grade. Look at us now we all following our dreams doing what we love and…\\n'\n",
      " 'This is what it looks like when someone loves you unconditionally oh Puppy Brother. #htx…\\n'\n",
      " \"RT @user this white family was invited to a Black barbecue and i've never laughed so hard in my life\\n\"\n",
      " \"TRACK SEASON 2016, I'M READY FOR YA @ University of the Incarnate Word\\n\"\n",
      " 'Merry Christmas you filthy little animals. Wearing a @user ugly sweater featuring Santa…\\n'\n",
      " 'Westenders @user #LAZzNation @ Weston, Toronto\\n'\n",
      " 'Maxwell heads home @ Summa Akron City Hospital\\n'\n",
      " 'Story On Saturday 136 Collins Ave, Miami Beach, FL 33139 Ladies Contact Me To Join Me In my…\\n'] \n",
      "\n",
      "Sequences\n"
     ]
    },
    {
     "data": {
      "text/plain": [
       "[[598, 6818, 1, 5120, 2005, 1, 1, 125, 1368, 311],\n",
       " [241, 1200, 1184, 27, 855, 3, 1200, 197, 1, 1349, 429, 1],\n",
       " [135,\n",
       "  107,\n",
       "  502,\n",
       "  2297,\n",
       "  2125,\n",
       "  114,\n",
       "  16,\n",
       "  86,\n",
       "  88,\n",
       "  28,\n",
       "  33,\n",
       "  2479,\n",
       "  44,\n",
       "  654,\n",
       "  432,\n",
       "  61,\n",
       "  28,\n",
       "  19,\n",
       "  302],\n",
       " [14, 15, 61, 23, 431, 51, 52, 553, 516, 11, 1, 241, 1274, 518, 1],\n",
       " [1521,\n",
       "  3,\n",
       "  14,\n",
       "  255,\n",
       "  80,\n",
       "  36,\n",
       "  6819,\n",
       "  4,\n",
       "  5,\n",
       "  469,\n",
       "  7154,\n",
       "  9,\n",
       "  270,\n",
       "  141,\n",
       "  6524,\n",
       "  27,\n",
       "  359,\n",
       "  8,\n",
       "  6,\n",
       "  76],\n",
       " [1323, 282, 464, 56, 155, 12, 310, 66, 10, 2, 1, 1568],\n",
       " [119, 29, 11, 3000, 64, 1723, 841, 5, 3, 1201, 1860, 1491, 3629],\n",
       " [1, 3, 1, 4974, 341],\n",
       " [1, 3885, 94, 4568, 4435, 59, 1329],\n",
       " [1015,\n",
       "  20,\n",
       "  216,\n",
       "  1,\n",
       "  4368,\n",
       "  1350,\n",
       "  125,\n",
       "  34,\n",
       "  456,\n",
       "  1,\n",
       "  358,\n",
       "  2202,\n",
       "  21,\n",
       "  4,\n",
       "  729,\n",
       "  21,\n",
       "  8,\n",
       "  664]]"
      ]
     },
     "execution_count": 13,
     "metadata": {},
     "output_type": "execute_result"
    }
   ],
   "source": [
    "print(\"Text \\n\",X_train_resampled[:10],'\\n')\n",
    "\n",
    "X_seqs = tokenizer.texts_to_sequences(X_train_resampled)\n",
    "print(\"Sequences\")\n",
    "X_seqs[:10]"
   ]
  },
  {
   "cell_type": "code",
   "execution_count": 14,
   "id": "bd718060-a410-49e6-bcf4-8eae50e538bf",
   "metadata": {},
   "outputs": [
    {
     "name": "stdout",
     "output_type": "stream",
     "text": [
      "Word Mappings\n",
      "\n",
      "Index:  1 ----> <OOV>\n",
      "Index:  2 ----> the\n",
      "Index:  3 ----> user\n",
      "Index:  4 ----> to\n",
      "Index:  5 ----> a\n",
      "Index:  6 ----> my\n",
      "Index:  7 ----> i\n",
      "Index:  8 ----> in\n",
      "Index:  9 ----> and\n"
     ]
    }
   ],
   "source": [
    "idx2words = tokenizer.index_word\n",
    "\n",
    "print(\"Word Mappings\\n\")\n",
    "for i in range(1,10):\n",
    "    print(\"Index: \",i, \"---->\",idx2words[i])"
   ]
  },
  {
   "cell_type": "code",
   "execution_count": 15,
   "id": "0697d465-41b7-4d1c-be48-3ec7ec5927e3",
   "metadata": {},
   "outputs": [
    {
     "name": "stdout",
     "output_type": "stream",
     "text": [
      "Vocabulary size: : 85531\n"
     ]
    }
   ],
   "source": [
    "vocab_size = len(tokenizer.index_word)\n",
    "print(\"Vocabulary size: :\", len(tokenizer.index_word))"
   ]
  },
  {
   "cell_type": "code",
   "execution_count": 16,
   "id": "ac0a7069-9fb2-41ef-be0e-41269a9ec4f1",
   "metadata": {},
   "outputs": [
    {
     "data": {
      "image/png": "[encoded data removed]",
      "text/plain": [
       "<Figure size 640x480 with 1 Axes>"
      ]
     },
     "metadata": {},
     "output_type": "display_data"
    }
   ],
   "source": [
    "lens = [len(seq) for seq in X_seqs]\n",
    "sns.countplot(x=lens)\n",
    "plt.xticks(ticks=range(1, max(lens) + 1, 2))\n",
    "plt.show()"
   ]
  },
  {
   "cell_type": "code",
   "execution_count": 17,
   "id": "fa0e5284-7b53-445c-a393-43a6129fd555",
   "metadata": {},
   "outputs": [],
   "source": [
    "from tensorflow.keras.preprocessing.sequence import pad_sequences\n",
    " \n",
    "# Convert texts to sequences of numbers\n",
    "train_sequences = tokenizer.texts_to_sequences(X_train_resampled)\n",
    "test_sequences = tokenizer.texts_to_sequences(X_test)\n",
    "\n",
    "# Pad the sequences to ensure they all have the same length\n",
    "max_length = 100  # You can adjust this based on your dataset\n",
    "X_train_padded = pad_sequences(train_sequences, maxlen=max_length, padding='post', truncating='post')\n",
    "X_test_padded = pad_sequences(test_sequences, maxlen=max_length, padding='post', truncating='post')"
   ]
  },
  {
   "cell_type": "code",
   "execution_count": 18,
   "id": "2bf94120-2e82-4602-8688-8d8fa7e82a78",
   "metadata": {},
   "outputs": [
    {
     "name": "stdout",
     "output_type": "stream",
     "text": [
      "Unique labels in Y_train_resampled: {0, 1, 2, 3, 4, 5, 6, 7, 8, 9, 10, 11, 12, 13, 14, 15, 16, 17, 18, 19}\n",
      "Shape of train_labels: (301820, 20)\n"
     ]
    }
   ],
   "source": [
    "# Check the unique values in Y_train_resampled to identify the label range\n",
    "unique_labels = set(Y_train_resampled)\n",
    "print(\"Unique labels in Y_train_resampled:\", unique_labels)\n",
    "\n",
    "# Find the maximum label value in Y_train_resampled\n",
    "num_classes = max(Y_train_resampled) + 1  # Ensure num_classes equals the highest label + 1\n",
    "\n",
    "# Convert labels to categorical (for emoji classification)\n",
    "train_labels = tf.keras.utils.to_categorical(Y_train_resampled, num_classes=num_classes)\n",
    "\n",
    "# Check if the issue is resolved\n",
    "print(\"Shape of train_labels:\", train_labels.shape)"
   ]
  },
  {
   "cell_type": "code",
   "execution_count": 19,
   "id": "3f05a9be-6b40-4243-8ce6-c34134daeb66",
   "metadata": {},
   "outputs": [
    {
     "data": {
      "image/png": "[encoded data removed]",
      "text/plain": [
       "<Figure size 1000x600 with 1 Axes>"
      ]
     },
     "metadata": {},
     "output_type": "display_data"
    }
   ],
   "source": [
    "# Plot original label distribution before oversampling\n",
    "plt.figure(figsize=(10, 6))\n",
    "sns.countplot(x=Y_train)\n",
    "plt.title('Original Label Distribution Before Oversampling')\n",
    "plt.show()\n"
   ]
  },
  {
   "cell_type": "code",
   "execution_count": 20,
   "id": "5e3b0ccb-0e9e-4b7e-bf83-2380d835fafd",
   "metadata": {},
   "outputs": [
    {
     "data": {
      "image/png": "[encoded data removed]",
      "text/plain": [
       "<Figure size 1000x600 with 1 Axes>"
      ]
     },
     "metadata": {},
     "output_type": "display_data"
    }
   ],
   "source": [
    "# Plot label distribution after oversampling\n",
    "plt.figure(figsize=(10, 6))\n",
    "sns.countplot(x=Y_train_resampled)\n",
    "plt.title('Label Distribution After Oversampling')\n",
    "plt.show()"
   ]
  },
  {
   "cell_type": "code",
   "execution_count": 21,
   "id": "1eccdd4a-951d-4435-a3ba-887596044923",
   "metadata": {},
   "outputs": [
    {
     "name": "stdout",
     "output_type": "stream",
     "text": [
      "Training data shape: (241456, 100)\n",
      "Validation data shape: (60364, 100)\n",
      "Training labels shape: (241456, 20)\n",
      "Validation labels shape: (60364, 20)\n"
     ]
    }
   ],
   "source": [
    "from sklearn.model_selection import train_test_split\n",
    "\n",
    "X_train_final, X_val_final, Y_train_final, Y_val_final = train_test_split(\n",
    "    X_train_padded, train_labels, test_size=0.2, random_state=42\n",
    ")\n",
    "\n",
    "# Check the shape of the splits\n",
    "print(\"Training data shape:\", X_train_final.shape)\n",
    "print(\"Validation data shape:\", X_val_final.shape)\n",
    "print(\"Training labels shape:\", Y_train_final.shape)\n",
    "print(\"Validation labels shape:\", Y_val_final.shape)"
   ]
  },
  {
   "cell_type": "markdown",
   "id": "e6913e16-58b9-4f2e-87d9-4922d9fd5e3d",
   "metadata": {},
   "source": [
    "## Deep Learning Model using LSTMs\n"
   ]
  },
  {
   "cell_type": "code",
   "execution_count": 30,
   "id": "3d931cab-f7f3-4ed9-90ef-8c2ee3069083",
   "metadata": {},
   "outputs": [
    {
     "name": "stderr",
     "output_type": "stream",
     "text": [
      "/opt/anaconda3/lib/python3.12/site-packages/keras/src/layers/core/embedding.py:90: UserWarning: Argument `input_length` is deprecated. Just remove it.\n",
      "  warnings.warn(\n"
     ]
    },
    {
     "data": {
      "text/html": [
       "<pre style=\"white-space:pre;overflow-x:auto;line-height:normal;font-family:Menlo,'DejaVu Sans Mono',consolas,'Courier New',monospace\"><span style=\"font-weight: bold\">Model: \"sequential_2\"</span>\n",
       "</pre>\n"
      ],
      "text/plain": [
       "\u001b[1mModel: \"sequential_2\"\u001b[0m\n"
      ]
     },
     "metadata": {},
     "output_type": "display_data"
    },
    {
     "data": {
      "text/html": [
       "<pre style=\"white-space:pre;overflow-x:auto;line-height:normal;font-family:Menlo,'DejaVu Sans Mono',consolas,'Courier New',monospace\">┏━━━━━━━━━━━━━━━━━━━━━━━━━━━━━━━━━┳━━━━━━━━━━━━━━━━━━━━━━━━┳━━━━━━━━━━━━━━━┓\n",
       "┃<span style=\"font-weight: bold\"> Layer (type)                    </span>┃<span style=\"font-weight: bold\"> Output Shape           </span>┃<span style=\"font-weight: bold\">       Param # </span>┃\n",
       "┡━━━━━━━━━━━━━━━━━━━━━━━━━━━━━━━━━╇━━━━━━━━━━━━━━━━━━━━━━━━╇━━━━━━━━━━━━━━━┩\n",
       "│ embedding_2 (<span style=\"color: #0087ff; text-decoration-color: #0087ff\">Embedding</span>)         │ (<span style=\"color: #00d7ff; text-decoration-color: #00d7ff\">None</span>, <span style=\"color: #00af00; text-decoration-color: #00af00\">100</span>, <span style=\"color: #00af00; text-decoration-color: #00af00\">64</span>)        │       <span style=\"color: #00af00; text-decoration-color: #00af00\">640,000</span> │\n",
       "├─────────────────────────────────┼────────────────────────┼───────────────┤\n",
       "│ lstm_2 (<span style=\"color: #0087ff; text-decoration-color: #0087ff\">LSTM</span>)                   │ (<span style=\"color: #00d7ff; text-decoration-color: #00d7ff\">None</span>, <span style=\"color: #00af00; text-decoration-color: #00af00\">64</span>)             │        <span style=\"color: #00af00; text-decoration-color: #00af00\">33,024</span> │\n",
       "├─────────────────────────────────┼────────────────────────┼───────────────┤\n",
       "│ dense_4 (<span style=\"color: #0087ff; text-decoration-color: #0087ff\">Dense</span>)                 │ (<span style=\"color: #00d7ff; text-decoration-color: #00d7ff\">None</span>, <span style=\"color: #00af00; text-decoration-color: #00af00\">32</span>)             │         <span style=\"color: #00af00; text-decoration-color: #00af00\">2,080</span> │\n",
       "├─────────────────────────────────┼────────────────────────┼───────────────┤\n",
       "│ dense_5 (<span style=\"color: #0087ff; text-decoration-color: #0087ff\">Dense</span>)                 │ (<span style=\"color: #00d7ff; text-decoration-color: #00d7ff\">None</span>, <span style=\"color: #00af00; text-decoration-color: #00af00\">20</span>)             │           <span style=\"color: #00af00; text-decoration-color: #00af00\">660</span> │\n",
       "└─────────────────────────────────┴────────────────────────┴───────────────┘\n",
       "</pre>\n"
      ],
      "text/plain": [
       "┏━━━━━━━━━━━━━━━━━━━━━━━━━━━━━━━━━┳━━━━━━━━━━━━━━━━━━━━━━━━┳━━━━━━━━━━━━━━━┓\n",
       "┃\u001b[1m \u001b[0m\u001b[1mLayer (type)                   \u001b[0m\u001b[1m \u001b[0m┃\u001b[1m \u001b[0m\u001b[1mOutput Shape          \u001b[0m\u001b[1m \u001b[0m┃\u001b[1m \u001b[0m\u001b[1m      Param #\u001b[0m\u001b[1m \u001b[0m┃\n",
       "┡━━━━━━━━━━━━━━━━━━━━━━━━━━━━━━━━━╇━━━━━━━━━━━━━━━━━━━━━━━━╇━━━━━━━━━━━━━━━┩\n",
       "│ embedding_2 (\u001b[38;5;33mEmbedding\u001b[0m)         │ (\u001b[38;5;45mNone\u001b[0m, \u001b[38;5;34m100\u001b[0m, \u001b[38;5;34m64\u001b[0m)        │       \u001b[38;5;34m640,000\u001b[0m │\n",
       "├─────────────────────────────────┼────────────────────────┼───────────────┤\n",
       "│ lstm_2 (\u001b[38;5;33mLSTM\u001b[0m)                   │ (\u001b[38;5;45mNone\u001b[0m, \u001b[38;5;34m64\u001b[0m)             │        \u001b[38;5;34m33,024\u001b[0m │\n",
       "├─────────────────────────────────┼────────────────────────┼───────────────┤\n",
       "│ dense_4 (\u001b[38;5;33mDense\u001b[0m)                 │ (\u001b[38;5;45mNone\u001b[0m, \u001b[38;5;34m32\u001b[0m)             │         \u001b[38;5;34m2,080\u001b[0m │\n",
       "├─────────────────────────────────┼────────────────────────┼───────────────┤\n",
       "│ dense_5 (\u001b[38;5;33mDense\u001b[0m)                 │ (\u001b[38;5;45mNone\u001b[0m, \u001b[38;5;34m20\u001b[0m)             │           \u001b[38;5;34m660\u001b[0m │\n",
       "└─────────────────────────────────┴────────────────────────┴───────────────┘\n"
      ]
     },
     "metadata": {},
     "output_type": "display_data"
    },
    {
     "data": {
      "text/html": [
       "<pre style=\"white-space:pre;overflow-x:auto;line-height:normal;font-family:Menlo,'DejaVu Sans Mono',consolas,'Courier New',monospace\"><span style=\"font-weight: bold\"> Total params: </span><span style=\"color: #00af00; text-decoration-color: #00af00\">675,764</span> (2.58 MB)\n",
       "</pre>\n"
      ],
      "text/plain": [
       "\u001b[1m Total params: \u001b[0m\u001b[38;5;34m675,764\u001b[0m (2.58 MB)\n"
      ]
     },
     "metadata": {},
     "output_type": "display_data"
    },
    {
     "data": {
      "text/html": [
       "<pre style=\"white-space:pre;overflow-x:auto;line-height:normal;font-family:Menlo,'DejaVu Sans Mono',consolas,'Courier New',monospace\"><span style=\"font-weight: bold\"> Trainable params: </span><span style=\"color: #00af00; text-decoration-color: #00af00\">675,764</span> (2.58 MB)\n",
       "</pre>\n"
      ],
      "text/plain": [
       "\u001b[1m Trainable params: \u001b[0m\u001b[38;5;34m675,764\u001b[0m (2.58 MB)\n"
      ]
     },
     "metadata": {},
     "output_type": "display_data"
    },
    {
     "data": {
      "text/html": [
       "<pre style=\"white-space:pre;overflow-x:auto;line-height:normal;font-family:Menlo,'DejaVu Sans Mono',consolas,'Courier New',monospace\"><span style=\"font-weight: bold\"> Non-trainable params: </span><span style=\"color: #00af00; text-decoration-color: #00af00\">0</span> (0.00 B)\n",
       "</pre>\n"
      ],
      "text/plain": [
       "\u001b[1m Non-trainable params: \u001b[0m\u001b[38;5;34m0\u001b[0m (0.00 B)\n"
      ]
     },
     "metadata": {},
     "output_type": "display_data"
    }
   ],
   "source": [
    "from tensorflow.keras.models import Sequential\n",
    "from tensorflow.keras.layers import Embedding, LSTM, Dense\n",
    "\n",
    "# Define the LSTM model\n",
    "lstm_model = Sequential([\n",
    "    Embedding(input_dim=10000, output_dim=64, input_length=100),  # Adjust embedding layer dimensions\n",
    "    LSTM(64, return_sequences=False),  # LSTM layer with 64 units\n",
    "    Dense(32, activation='relu'),  # Fully connected layer\n",
    "    Dense(20, activation='softmax')  # Output layer for 20 emoji classes\n",
    "])\n",
    "# Build the model with input shape\n",
    "lstm_model.build(input_shape=(None, 100))\n",
    "\n",
    "# Compile the model\n",
    "lstm_model.compile(loss='categorical_crossentropy', optimizer='adam', metrics=['accuracy'])\n",
    "\n",
    "# Summary\n",
    "lstm_model.summary()"
   ]
  },
  {
   "cell_type": "code",
   "execution_count": 32,
   "id": "5edaf613-5c42-4b6c-87e7-77fd94aa3bd2",
   "metadata": {},
   "outputs": [
    {
     "name": "stdout",
     "output_type": "stream",
     "text": [
      "Epoch 1/10\n",
      "\u001b[1m7546/7546\u001b[0m \u001b[32m━━━━━━━━━━━━━━━━━━━━\u001b[0m\u001b[37m\u001b[0m \u001b[1m175s\u001b[0m 23ms/step - accuracy: 0.0499 - loss: 2.9959 - val_accuracy: 0.0504 - val_loss: 2.9961\n",
      "Epoch 2/10\n",
      "\u001b[1m7546/7546\u001b[0m \u001b[32m━━━━━━━━━━━━━━━━━━━━\u001b[0m\u001b[37m\u001b[0m \u001b[1m179s\u001b[0m 24ms/step - accuracy: 0.0479 - loss: 2.9959 - val_accuracy: 0.0482 - val_loss: 2.9959\n",
      "Epoch 3/10\n",
      "\u001b[1m7546/7546\u001b[0m \u001b[32m━━━━━━━━━━━━━━━━━━━━\u001b[0m\u001b[37m\u001b[0m \u001b[1m174s\u001b[0m 23ms/step - accuracy: 0.0486 - loss: 2.9960 - val_accuracy: 0.0499 - val_loss: 2.9961\n",
      "Epoch 4/10\n",
      "\u001b[1m7546/7546\u001b[0m \u001b[32m━━━━━━━━━━━━━━━━━━━━\u001b[0m\u001b[37m\u001b[0m \u001b[1m175s\u001b[0m 23ms/step - accuracy: 0.0498 - loss: 2.9959 - val_accuracy: 0.0502 - val_loss: 2.9962\n",
      "Epoch 5/10\n",
      "\u001b[1m7546/7546\u001b[0m \u001b[32m━━━━━━━━━━━━━━━━━━━━\u001b[0m\u001b[37m\u001b[0m \u001b[1m179s\u001b[0m 24ms/step - accuracy: 0.0489 - loss: 2.9960 - val_accuracy: 0.0494 - val_loss: 2.9959\n",
      "Epoch 6/10\n",
      "\u001b[1m7546/7546\u001b[0m \u001b[32m━━━━━━━━━━━━━━━━━━━━\u001b[0m\u001b[37m\u001b[0m \u001b[1m183s\u001b[0m 24ms/step - accuracy: 0.0485 - loss: 2.9960 - val_accuracy: 0.0507 - val_loss: 2.9959\n",
      "Epoch 7/10\n",
      "\u001b[1m7546/7546\u001b[0m \u001b[32m━━━━━━━━━━━━━━━━━━━━\u001b[0m\u001b[37m\u001b[0m \u001b[1m186s\u001b[0m 25ms/step - accuracy: 0.0500 - loss: 2.9959 - val_accuracy: 0.0498 - val_loss: 2.9959\n",
      "Epoch 8/10\n",
      "\u001b[1m7546/7546\u001b[0m \u001b[32m━━━━━━━━━━━━━━━━━━━━\u001b[0m\u001b[37m\u001b[0m \u001b[1m177s\u001b[0m 23ms/step - accuracy: 0.0494 - loss: 2.9960 - val_accuracy: 0.0502 - val_loss: 2.9960\n",
      "Epoch 9/10\n",
      "\u001b[1m7546/7546\u001b[0m \u001b[32m━━━━━━━━━━━━━━━━━━━━\u001b[0m\u001b[37m\u001b[0m \u001b[1m176s\u001b[0m 23ms/step - accuracy: 0.0492 - loss: 2.9959 - val_accuracy: 0.0494 - val_loss: 2.9960\n",
      "Epoch 10/10\n",
      "\u001b[1m7546/7546\u001b[0m \u001b[32m━━━━━━━━━━━━━━━━━━━━\u001b[0m\u001b[37m\u001b[0m \u001b[1m173s\u001b[0m 23ms/step - accuracy: 0.0490 - loss: 2.9960 - val_accuracy: 0.0499 - val_loss: 2.9960\n"
     ]
    },
    {
     "ename": "NameError",
     "evalue": "name 'Y_test_final' is not defined",
     "output_type": "error",
     "traceback": [
      "\u001b[0;31m---------------------------------------------------------------------------\u001b[0m",
      "\u001b[0;31mNameError\u001b[0m                                 Traceback (most recent call last)",
      "Cell \u001b[0;32mIn[32], line 10\u001b[0m\n\u001b[1;32m      2\u001b[0m history_lstm \u001b[38;5;241m=\u001b[39m lstm_model\u001b[38;5;241m.\u001b[39mfit(\n\u001b[1;32m      3\u001b[0m     X_train_final, Y_train_final,\n\u001b[1;32m      4\u001b[0m     epochs\u001b[38;5;241m=\u001b[39m\u001b[38;5;241m10\u001b[39m,\n\u001b[1;32m      5\u001b[0m     batch_size\u001b[38;5;241m=\u001b[39m\u001b[38;5;241m32\u001b[39m,\n\u001b[1;32m      6\u001b[0m     validation_data\u001b[38;5;241m=\u001b[39m(X_val_final, Y_val_final)\n\u001b[1;32m      7\u001b[0m )\n\u001b[1;32m      9\u001b[0m \u001b[38;5;66;03m# Evaluate LSTM model\u001b[39;00m\n\u001b[0;32m---> 10\u001b[0m lstm_model\u001b[38;5;241m.\u001b[39mevaluate(X_test_padded, Y_test_final)\n",
      "\u001b[0;31mNameError\u001b[0m: name 'Y_test_final' is not defined"
     ]
    }
   ],
   "source": [
    "# Train the LSTM model\n",
    "history_lstm = lstm_model.fit(\n",
    "    X_train_final, Y_train_final,\n",
    "    epochs=10,\n",
    "    batch_size=32,\n",
    "    validation_data=(X_val_final, Y_val_final)\n",
    ")\n",
    "\n",
    "# Evaluate LSTM model\n",
    "lstm_model.evaluate(X_test_padded, Y_test_final)"
   ]
  },
  {
   "cell_type": "code",
   "execution_count": null,
   "id": "6b80e20a-d40c-4e57-9ca7-a7d0e0e37946",
   "metadata": {},
   "outputs": [],
   "source": [
    "# Plot LSTM model performance\n",
    "loss_lstm = pd.DataFrame(history_lstm.history)\n",
    "plt.plot(loss_lstm['loss'], label='Training Loss')\n",
    "plt.plot(loss_lstm['val_loss'], label='Validation Loss')\n",
    "plt.title('LSTM Model Loss')\n",
    "plt.xlabel('Epochs')\n",
    "plt.ylabel('Loss')\n",
    "plt.legend()\n",
    "plt.show()"
   ]
  },
  {
   "cell_type": "markdown",
   "id": "f06d39b9-0ce7-4560-a079-1c4de449043a",
   "metadata": {},
   "source": [
    "## Deep Learning Model using Bidirectional LSTMs\n"
   ]
  },
  {
   "cell_type": "code",
   "execution_count": null,
   "id": "7f106124-9002-420f-9241-6dcb622c8b70",
   "metadata": {},
   "outputs": [],
   "source": [
    "from tensorflow.keras.layers import Bidirectional\n",
    "\n",
    "# Define the Bidirectional LSTM model\n",
    "bidirectional_model = Sequential([\n",
    "    Embedding(input_dim=10000, output_dim=64, input_length=100),  # Adjust embedding layer dimensions\n",
    "    Bidirectional(LSTM(64, return_sequences=False)),  # Bidirectional LSTM layer\n",
    "    Dense(32, activation='relu'),  # Fully connected layer\n",
    "    Dense(20, activation='softmax')  # Output layer for 20 emoji classes\n",
    "])\n",
    "# Build the model with input shape\n",
    "bi_lstm_model.build(input_shape=(None, 100))\n",
    "\n",
    "# Compile the model\n",
    "bidirectional_model.compile(loss='categorical_crossentropy', optimizer='adam', metrics=['accuracy'])\n",
    "\n",
    "# Summary\n",
    "bidirectional_model.summary()\n"
   ]
  },
  {
   "cell_type": "code",
   "execution_count": null,
   "id": "b2b50824-e768-41fe-b901-0a397cdf1b33",
   "metadata": {},
   "outputs": [],
   "source": [
    "# Train the Bidirectional LSTM model\n",
    "history_bidir = bidirectional_model.fit(\n",
    "    X_train_final, Y_train_final,\n",
    "    epochs=10,\n",
    "    batch_size=32,\n",
    "    validation_data=(X_val_final, Y_val_final)\n",
    ")\n",
    "\n",
    "# Evaluate Bidirectional LSTM model\n",
    "bidirectional_model.evaluate(X_test_padded, Y_test_final)"
   ]
  },
  {
   "cell_type": "code",
   "execution_count": null,
   "id": "634c6521-3340-4e80-8b06-14e92a5ed292",
   "metadata": {},
   "outputs": [],
   "source": [
    "# Plot Bidirectional LSTM model performance\n",
    "loss_bidir = pd.DataFrame(history_bidir.history)\n",
    "plt.plot(loss_bidir['loss'], label='Training Loss')\n",
    "plt.plot(loss_bidir['val_loss'], label='Validation Loss')\n",
    "plt.title('Bidirectional LSTM Model Loss')\n",
    "plt.xlabel('Epochs')\n",
    "plt.ylabel('Loss')\n",
    "plt.legend()\n",
    "plt.show()"
   ]
  }
 ],
 "metadata": {
  "kernelspec": {
   "display_name": "Python 3 (ipykernel)",
   "language": "python",
   "name": "python3"
  },
  "language_info": {
   "codemirror_mode": {
    "name": "ipython",
    "version": 3
   },
   "file_extension": ".py",
   "mimetype": "text/x-python",
   "name": "python",
   "nbconvert_exporter": "python",
   "pygments_lexer": "ipython3",
   "version": "3.12.2"
  }
 },
 "nbformat": 4,
 "nbformat_minor": 5
}
